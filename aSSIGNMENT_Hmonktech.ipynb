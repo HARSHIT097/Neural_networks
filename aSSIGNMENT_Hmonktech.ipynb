{
  "nbformat": 4,
  "nbformat_minor": 0,
  "metadata": {
    "colab": {
      "name": "aSSIGNMENT@Hmonktech.ipynb",
      "provenance": [],
      "authorship_tag": "ABX9TyMVKtftlA+RK9VcboSiA72X",
      "include_colab_link": true
    },
    "kernelspec": {
      "name": "python3",
      "display_name": "Python 3"
    },
    "language_info": {
      "name": "python"
    }
  },
  "cells": [
    {
      "cell_type": "markdown",
      "metadata": {
        "id": "view-in-github",
        "colab_type": "text"
      },
      "source": [
        "<a href=\"https://colab.research.google.com/github/HARSHIT097/Neural_networks/blob/main/aSSIGNMENT_Hmonktech.ipynb\" target=\"_parent\"><img src=\"https://colab.research.google.com/assets/colab-badge.svg\" alt=\"Open In Colab\"/></a>"
      ]
    },
    {
      "cell_type": "code",
      "metadata": {
        "id": "XjzAq3GoEpSz"
      },
      "source": [
        "#Name- Harshit Kumar Singh\n",
        "#Position Applied For - Juniour Data Scientist\n",
        "#e-mail - harshitsingh097@gmail.com\n",
        "#MOBILE - 7800333757"
      ],
      "execution_count": null,
      "outputs": []
    },
    {
      "cell_type": "markdown",
      "metadata": {
        "id": "iNbHHEFf5it0"
      },
      "source": [
        "# Abstract"
      ]
    },
    {
      "cell_type": "markdown",
      "metadata": {
        "id": "_S34zefx4Hfz"
      },
      "source": [
        "The choice of Activation Functions (AF) has proven\n",
        "to be an important factor that affects the performance of an Artificial Neural Network (ANN). \n",
        "\n",
        "Use a 1-hidden layer neural network model that adapts to the most suitable activation function according to the data-set. The ANN model can learn for itself the best AF to use by exploiting a flexible functional form,\n",
        "\n",
        "k0 + k1 ∗ x \n",
        "\n",
        "with parameters k0, k1 being learned from multiple\n",
        "runs.\n",
        "\n",
        "You can use this code-base for implementation guidelines\n",
        "and help. https://github.com/sahamath/MultiLayerPerceptron"
      ]
    },
    {
      "cell_type": "markdown",
      "metadata": {
        "id": "SBKO9Mlz5jMw"
      },
      "source": [
        "# Background"
      ]
    },
    {
      "cell_type": "markdown",
      "metadata": {
        "id": "mNDJvNo744ps"
      },
      "source": [
        "\n",
        "Selection of the best performing AF for classification taskbis essentially a naive (or brute-force) procedure wherein, a popularly used AF is picked and used in the network for approximating the optimal function. If this function fails, the process is repeated with a different AF, till the network learns to approximate the ideal function.\n",
        "\n",
        " It is interesting to inquire and inspect whether there exists a possibility of building a framework which uses the inherent clues and insights from data and bring about the most suitable AF. The possibilities of such an approach could not only save significant time and\n",
        "effort for tuning the model, but will also open up new ways for discovering essential features of not-so-popular AFs."
      ]
    },
    {
      "cell_type": "markdown",
      "metadata": {
        "id": "E4HJjb7s5jhJ"
      },
      "source": [
        "# Problem Statement"
      ]
    },
    {
      "cell_type": "markdown",
      "metadata": {
        "id": "FMapqu5r47VG"
      },
      "source": [
        "Given a specific activation function\n",
        "\n",
        "g(x) = k0 + k1x (1)\n",
        "\n",
        "and categorical cross-entropy loss, design a Neural Network on\n",
        "\n",
        "Banknote, MNIST or IRIS data\n",
        "\n",
        "where the activation function parameters k0, k1 are learned from the data you choose from\n",
        "one of the above-mentioned data sets.\n",
        "\n",
        "Your solution must include the learnable parameter values i.e. final k0, k1 values\n",
        "at the end of training, a plot depicting changes in k0, k1 at\n",
        "each epoch, training vs test loss, train vs. test accuracy and a\n",
        "Loss function plot."
      ]
    },
    {
      "cell_type": "markdown",
      "metadata": {
        "id": "9ceKcVpQ5jy-"
      },
      "source": [
        "# MATHEMATICAL FRAMEWORK"
      ]
    },
    {
      "cell_type": "markdown",
      "metadata": {
        "id": "0Q3-IccM5AWI"
      },
      "source": [
        "III. MATHEMATICAL FRAMEWORK\n",
        "\n",
        "A. Compact Representation\n",
        "Let the proposed Ada-Act activation function be mathematically defined as:\n",
        "\n",
        "g(x) = k0 + k1x (2)\n",
        "\n",
        "where the coefficients k0, k1 have to be learned during training\n",
        "via back-propagation of error gradients, on a particular data\n",
        "set specified in the problem statement.\n",
        "\n",
        "\n",
        "For the purpose of demonstration, consider a feed-forward\n",
        "neural network consisting of an input layer L0 consisting\n",
        "of m nodes for m features, two hidden layers L1 and L2\n",
        "consisting of n and p nodes respectively, and an output\n",
        "layer L3 consisting of k nodes for k classes. Let zi and\n",
        "ai denote the inputs to and the activations of the nodes in\n",
        "layer Li respectively. Let wi and bi denote the weights and\n",
        "the biases applied to the nodes of layer Li−1, and let the\n",
        "activations of layer L0 be the input features of the training\n",
        "examples. Finally, let K denote the column matrix containing\n",
        "the equation coefficients: \u0014\n",
        "\n",
        "k0\n",
        "k1\n",
        "k2\n",
        "\u0015\n",
        "\n",
        "and let t denote the number of\n",
        "training examples being taken in one batch. Then the forwardpropagation equations will be:\n",
        "\n",
        "z1 = a0 × w1 + b1\n",
        "\n",
        "a1 = g(z1)\n",
        "\n",
        "z2 = a1 × w2 + b2\n",
        "\n",
        "a2 = g(z2)\n",
        "\n",
        "z3 = a2 × w3 + b3\n",
        "\n",
        "a3 = Sof tmax(z3)\n",
        "\n",
        "where × denotes the matrix multiplication operation and\n",
        "Sof tmax() denotes the Softmax activation function.\n",
        "For back-propagation, let the loss function used in this\n",
        "model be the Categorical Cross-Entropy Loss, and let dfi\n",
        "denote the gradient matrix of the loss with respect to the matrix\n",
        "\n",
        "fi\n",
        "\n",
        ", where f can be substituted with z, a, b, or w. and let there\n",
        "be matrices dK2 and dK1 of dimension 3×1. Then the backpropagation equations will be:\n",
        "\n",
        "dz3 = a3 − y\n",
        "\n",
        "dw3 =\n",
        "1\n",
        "t\n",
        "a\n",
        "T\n",
        "2 × dz3\n",
        "\n",
        "db3 = avgcol(dz3)\n",
        "\n",
        "da2 = dz3 × w\n",
        "T\n",
        "3\n",
        "\n",
        "dz2 = g\n",
        "0\n",
        "(z2) ∗ da2\n",
        "\n",
        "dw2 =\n",
        "1\n",
        "t\n",
        "a\n",
        "T\n",
        "1 × dz2\n",
        "\n",
        "db2 = avgcol(dz2)\n",
        "\n",
        "da1 = dz2 × w\n",
        "T\n",
        "2\n",
        "\n",
        "dz1 = g\n",
        "0\n",
        "(z1) ∗ da1\n",
        "\n",
        "dw1 =\n",
        "1\n",
        "t\n",
        "a\n",
        "T\n",
        "0 × dz1\n",
        "\n",
        "db1 = avgcol(dz1)\n",
        "\n",
        "dK1 =\n",
        "\n",
        "\n",
        "\n",
        "avge(da1)\n",
        "avge(da1 ∗ z1)\n",
        "avge(da1 ∗ z\n",
        "2\n",
        "1\n",
        ")\n",
        "\n",
        "\n",
        " (3)\n",
        "\n",
        "dK = dK1 (4)\n",
        "\n",
        "where ∗ is the element-wise multiplication operation, T is the\n",
        "matrix transpose operation, avgcol(x) is the function which\n",
        "returns the column-wise average of the elements present in\n",
        "the matrix x, and avge(x) is the function which returns the\n",
        "average of all the elements present in the matrix x.\n",
        "Consider the learning rate of the model to be α. The update\n",
        "equations for the model parameters will be:\n",
        "\n",
        "w1 = w1 − α.dw1\n",
        "\n",
        "b1 = b1 − α.db1\n",
        "\n",
        "w2 = w2 − α.dw2\n",
        "\n",
        "b2 = b2 − α.db2\n",
        "\n",
        "w3 = w3 − α.dw3\n",
        "\n",
        "b3 = b3 − α.db3\n",
        "\n",
        "K = K − α.dK"
      ]
    },
    {
      "cell_type": "markdown",
      "metadata": {
        "id": "Hks8IuHQ5kG6"
      },
      "source": [
        "# EXPECTED RESULTS "
      ]
    },
    {
      "cell_type": "markdown",
      "metadata": {
        "id": "nUhcMmsG5PH8"
      },
      "source": [
        "\n",
        "• A technical report containing implementation details (algorithm, initial settings such as sampling the parameters\n",
        "k0, k1 from some distribution, parameter updates on\n",
        "epochs, final parameter values at the end of training, train\n",
        "vs test loss, train and test accuracy, F1-Score, plot of\n",
        "the loss function vs. epochs, Code base hosted on github\n",
        "linked in the report)–Maximum 3 pages\n",
        "\n",
        "• Grid search/brute force NOT allowed\n",
        "\n",
        "\n",
        "• Data Sets for experiments and results: Bank-Note\n",
        "(Internship Candidates)\n",
        "\n",
        "• Data Sets for experiments and results: Bank-Note, Iris,\n",
        "MNIST (Junior Data Scientist Positions)"
      ]
    },
    {
      "cell_type": "markdown",
      "metadata": {
        "id": "BPaNPlnG5T1P"
      },
      "source": [
        ""
      ]
    },
    {
      "cell_type": "markdown",
      "metadata": {
        "id": "6vxJIjyq8ja8"
      },
      "source": [
        "# Solution"
      ]
    },
    {
      "cell_type": "markdown",
      "metadata": {
        "id": "YI4CbWACxsKY"
      },
      "source": [
        "The Solution consist of two experiments.\n",
        "\n",
        "Experiment-001 and Experiment-002\n",
        "\n",
        "The first experiment is with the iris dataset and second one is with the mnist dataset\n"
      ]
    },
    {
      "cell_type": "markdown",
      "metadata": {
        "id": "OiVwmTxE8may"
      },
      "source": [
        "## experiments-001"
      ]
    },
    {
      "cell_type": "markdown",
      "metadata": {
        "id": "Q7M578kVx2ga"
      },
      "source": [
        "Defining Class and function"
      ]
    },
    {
      "cell_type": "code",
      "metadata": {
        "id": "XizIIVKTe2WZ"
      },
      "source": [
        "class exp_001():\n",
        "  def Train_Test_Split(self,X,y):\n",
        "\n",
        "    X_train,X_val,Y_train,Y_val=train_test_split(X,y,test_size=0.25,random_state=2)\n",
        "    print(\"x_train shape\",X_train.shape)\n",
        "    print(\"x_test shape\",X_val.shape)\n",
        "    print(\"y_train shape\",Y_train.shape)\n",
        "    print(\"y_test shape\",Y_val.shape)\n",
        "    return X_train,X_val,Y_train,Y_val\n",
        "\n",
        "  def plot_result(self,df):\n",
        "    fig,(ax1, ax2)=plt.subplots(1,2,figsize=(10,5))\n",
        "    # ax=[axx for axes_rows in axes for axx in axes_rows]\n",
        "    \n",
        "    ax1.plot(df.index,df.loss, label='loss',color=\"g\")\n",
        "    ax1.plot(df.index,df.val_loss, label='val_loss',color=\"r\")\n",
        "    ax1.set_title(\"Loss\")\n",
        "    ax1.legend()\n",
        "\n",
        "    ax2.plot(df.index,df.accuracy, label='accuracy',color=\"g\")\n",
        "    ax2.plot(df.index,df.val_accuracy, label='val_accuracy',color=\"r\")\n",
        "    ax2.set_title(\"Accuracy\")\n",
        "    ax2.legend()\n",
        "\n",
        "    plt.tight_layout()\n",
        "    plt.show()\n",
        "    return"
      ],
      "execution_count": null,
      "outputs": []
    },
    {
      "cell_type": "code",
      "metadata": {
        "id": "5DDMEghYfGRM"
      },
      "source": [
        "obj = exp_001()"
      ],
      "execution_count": null,
      "outputs": []
    },
    {
      "cell_type": "markdown",
      "metadata": {
        "id": "LgpCd9zKvHza"
      },
      "source": [
        "### loading libraries"
      ]
    },
    {
      "cell_type": "code",
      "metadata": {
        "id": "57_LKObN8zZd"
      },
      "source": [
        "import numpy as np\n",
        "import pandas as pd\n",
        "import matplotlib.pyplot as plt\n",
        "import seaborn as sns\n",
        "sns.set_style(\"whitegrid\")"
      ],
      "execution_count": null,
      "outputs": []
    },
    {
      "cell_type": "markdown",
      "metadata": {
        "id": "pRghGVarvTvv"
      },
      "source": [
        "### loading dataset"
      ]
    },
    {
      "cell_type": "code",
      "metadata": {
        "id": "M8peGXYWvOEV"
      },
      "source": [
        "#choosing iris datset for experiment\n",
        "from sklearn.datasets import load_iris\n",
        "iris_data = load_iris()\n",
        "\n",
        "features = iris_data.data\n",
        "labels = iris_data.target.reshape(-1, 1)"
      ],
      "execution_count": null,
      "outputs": []
    },
    {
      "cell_type": "markdown",
      "metadata": {
        "id": "pqGf_nr2dtKa"
      },
      "source": [
        "### Preprocessing"
      ]
    },
    {
      "cell_type": "code",
      "metadata": {
        "id": "jtJrHLLgdxYr"
      },
      "source": [
        "from sklearn.preprocessing import OneHotEncoder\n",
        "\n",
        "# we have 3 classes so the labels will have 3 values\n",
        "# first class: (1,0,0) second class: (0,1,0) third class: (0,0,1)\n",
        "encoder = OneHotEncoder()\n",
        "targets = encoder.fit_transform(labels).toarray()"
      ],
      "execution_count": null,
      "outputs": []
    },
    {
      "cell_type": "markdown",
      "metadata": {
        "id": "v7nVLSpAd44N"
      },
      "source": [
        "### train test split"
      ]
    },
    {
      "cell_type": "code",
      "metadata": {
        "id": "q9NECA5Vd1WP"
      },
      "source": [
        "from sklearn.model_selection import train_test_split\n",
        "\n",
        "train_features, test_features, train_targets, test_targets = train_test_split(features, targets, test_size=0.2)"
      ],
      "execution_count": null,
      "outputs": []
    },
    {
      "cell_type": "markdown",
      "metadata": {
        "id": "-Q56mbMDvXec"
      },
      "source": [
        "### model"
      ]
    },
    {
      "cell_type": "code",
      "metadata": {
        "colab": {
          "base_uri": "https://localhost:8080/"
        },
        "id": "2buAJCUpd8cn",
        "outputId": "380931f8-9a50-4e28-8e4d-6fe000b577a4"
      },
      "source": [
        "from keras.models import Sequential\n",
        "from keras.layers import Dense\n",
        "from keras.optimizers import Adam\n",
        "from keras.callbacks import EarlyStopping\n",
        "\n",
        "\n",
        "model = Sequential()\n",
        "model.add(Dense(10, input_dim=4, activation='sigmoid'))\n",
        "model.add(Dense(3, activation='softmax'))\n",
        "model.summary()\n",
        "\n",
        "#print(model.weights)\n",
        "# we can define the loss function MSE or negative log lokelihood\n",
        "# optimizer will find the right adjustements for the weights: SGD, Adagrad, ADAM ...\n",
        "optimizer = Adam(learning_rate=0.001)\n",
        "model.compile(loss='categorical_crossentropy',\n",
        "              optimizer=optimizer,\n",
        "              metrics=['accuracy'])\n",
        "\n",
        "\n",
        "CALLBACKS = EarlyStopping(monitor='val_loss', patience=5)\n",
        "history = model.fit(train_features,\n",
        "                    train_targets,\n",
        "                    epochs=10,\n",
        "                    validation_data=(test_features, test_targets),\n",
        "                    callbacks=[CALLBACKS],\n",
        "                    batch_size=20, verbose=2)\n",
        "results = model.evaluate(test_features, test_targets, use_multiprocessing=True)\n",
        "\n",
        "print(\"Training is finished... The loss and accuracy values are:\")\n",
        "print(results)"
      ],
      "execution_count": null,
      "outputs": [
        {
          "output_type": "stream",
          "text": [
            "Model: \"sequential_1\"\n",
            "_________________________________________________________________\n",
            "Layer (type)                 Output Shape              Param #   \n",
            "=================================================================\n",
            "dense_2 (Dense)              (None, 10)                50        \n",
            "_________________________________________________________________\n",
            "dense_3 (Dense)              (None, 3)                 33        \n",
            "=================================================================\n",
            "Total params: 83\n",
            "Trainable params: 83\n",
            "Non-trainable params: 0\n",
            "_________________________________________________________________\n",
            "Epoch 1/10\n",
            "6/6 - 13s - loss: 1.2344 - accuracy: 0.6500 - val_loss: 1.1107 - val_accuracy: 0.7333\n",
            "Epoch 2/10\n",
            "6/6 - 0s - loss: 1.2130 - accuracy: 0.6500 - val_loss: 1.0981 - val_accuracy: 0.7333\n",
            "Epoch 3/10\n",
            "6/6 - 0s - loss: 1.1933 - accuracy: 0.6500 - val_loss: 1.0862 - val_accuracy: 0.7333\n",
            "Epoch 4/10\n",
            "6/6 - 0s - loss: 1.1751 - accuracy: 0.6417 - val_loss: 1.0752 - val_accuracy: 0.7333\n",
            "Epoch 5/10\n",
            "6/6 - 0s - loss: 1.1551 - accuracy: 0.6333 - val_loss: 1.0660 - val_accuracy: 0.7333\n",
            "Epoch 6/10\n",
            "6/6 - 0s - loss: 1.1425 - accuracy: 0.6250 - val_loss: 1.0572 - val_accuracy: 0.7333\n",
            "Epoch 7/10\n",
            "6/6 - 0s - loss: 1.1270 - accuracy: 0.6250 - val_loss: 1.0499 - val_accuracy: 0.7000\n",
            "Epoch 8/10\n",
            "6/6 - 0s - loss: 1.1132 - accuracy: 0.6250 - val_loss: 1.0435 - val_accuracy: 0.7000\n",
            "Epoch 9/10\n",
            "6/6 - 0s - loss: 1.1017 - accuracy: 0.6083 - val_loss: 1.0379 - val_accuracy: 0.7000\n",
            "Epoch 10/10\n",
            "6/6 - 0s - loss: 1.0911 - accuracy: 0.6000 - val_loss: 1.0330 - val_accuracy: 0.7000\n",
            "1/1 [==============================] - 0s 15ms/step - loss: 1.0330 - accuracy: 0.7000\n",
            "Training is finished... The loss and accuracy values are:\n",
            "[1.0329656600952148, 0.699999988079071]\n"
          ],
          "name": "stdout"
        }
      ]
    },
    {
      "cell_type": "code",
      "metadata": {
        "id": "Jbzr-eaXeBxv"
      },
      "source": [
        "#print(model.weights)"
      ],
      "execution_count": null,
      "outputs": []
    },
    {
      "cell_type": "code",
      "metadata": {
        "colab": {
          "base_uri": "https://localhost:8080/",
          "height": 204
        },
        "id": "8Z4o8eF6eaDS",
        "outputId": "1c7b02b1-e16b-45a2-f4e7-727bd80135c2"
      },
      "source": [
        "results=pd.DataFrame(history.history)\n",
        "results.head()"
      ],
      "execution_count": null,
      "outputs": [
        {
          "output_type": "execute_result",
          "data": {
            "text/html": [
              "<div>\n",
              "<style scoped>\n",
              "    .dataframe tbody tr th:only-of-type {\n",
              "        vertical-align: middle;\n",
              "    }\n",
              "\n",
              "    .dataframe tbody tr th {\n",
              "        vertical-align: top;\n",
              "    }\n",
              "\n",
              "    .dataframe thead th {\n",
              "        text-align: right;\n",
              "    }\n",
              "</style>\n",
              "<table border=\"1\" class=\"dataframe\">\n",
              "  <thead>\n",
              "    <tr style=\"text-align: right;\">\n",
              "      <th></th>\n",
              "      <th>loss</th>\n",
              "      <th>accuracy</th>\n",
              "      <th>val_loss</th>\n",
              "      <th>val_accuracy</th>\n",
              "    </tr>\n",
              "  </thead>\n",
              "  <tbody>\n",
              "    <tr>\n",
              "      <th>0</th>\n",
              "      <td>1.234419</td>\n",
              "      <td>0.650000</td>\n",
              "      <td>1.110730</td>\n",
              "      <td>0.733333</td>\n",
              "    </tr>\n",
              "    <tr>\n",
              "      <th>1</th>\n",
              "      <td>1.212992</td>\n",
              "      <td>0.650000</td>\n",
              "      <td>1.098126</td>\n",
              "      <td>0.733333</td>\n",
              "    </tr>\n",
              "    <tr>\n",
              "      <th>2</th>\n",
              "      <td>1.193283</td>\n",
              "      <td>0.650000</td>\n",
              "      <td>1.086198</td>\n",
              "      <td>0.733333</td>\n",
              "    </tr>\n",
              "    <tr>\n",
              "      <th>3</th>\n",
              "      <td>1.175102</td>\n",
              "      <td>0.641667</td>\n",
              "      <td>1.075210</td>\n",
              "      <td>0.733333</td>\n",
              "    </tr>\n",
              "    <tr>\n",
              "      <th>4</th>\n",
              "      <td>1.155099</td>\n",
              "      <td>0.633333</td>\n",
              "      <td>1.065968</td>\n",
              "      <td>0.733333</td>\n",
              "    </tr>\n",
              "  </tbody>\n",
              "</table>\n",
              "</div>"
            ],
            "text/plain": [
              "       loss  accuracy  val_loss  val_accuracy\n",
              "0  1.234419  0.650000  1.110730      0.733333\n",
              "1  1.212992  0.650000  1.098126      0.733333\n",
              "2  1.193283  0.650000  1.086198      0.733333\n",
              "3  1.175102  0.641667  1.075210      0.733333\n",
              "4  1.155099  0.633333  1.065968      0.733333"
            ]
          },
          "metadata": {
            "tags": []
          },
          "execution_count": 13
        }
      ]
    },
    {
      "cell_type": "markdown",
      "metadata": {
        "id": "4qm6oQYJffBR"
      },
      "source": [
        "## Visualization of loss and accuracy"
      ]
    },
    {
      "cell_type": "code",
      "metadata": {
        "colab": {
          "base_uri": "https://localhost:8080/",
          "height": 369
        },
        "id": "pc0mLHQLemEw",
        "outputId": "dbf5890a-ed43-4202-876b-f67cf2178184"
      },
      "source": [
        "obj.plot_result(results)"
      ],
      "execution_count": null,
      "outputs": [
        {
          "output_type": "display_data",
          "data": {
            "image/png": "[encoded data removed]",
            "text/plain": [
              "<Figure size 720x360 with 2 Axes>"
            ]
          },
          "metadata": {
            "tags": []
          }
        }
      ]
    },
    {
      "cell_type": "code",
      "metadata": {
        "id": "4chKQhjYiVy2"
      },
      "source": [
        "from sklearn.preprocessing import MinMaxScaler\n",
        "scaler = MinMaxScaler()\n",
        "inputs = scaler.fit_transform(features)"
      ],
      "execution_count": null,
      "outputs": []
    },
    {
      "cell_type": "code",
      "metadata": {
        "colab": {
          "base_uri": "https://localhost:8080/"
        },
        "id": "D5DTLpJFjWgx",
        "outputId": "032e9839-f0a2-4be6-bccf-bed4d09a1a2e"
      },
      "source": [
        "inputs"
      ],
      "execution_count": null,
      "outputs": [
        {
          "output_type": "execute_result",
          "data": {
            "text/plain": [
              "array([[0.22222222, 0.625     , 0.06779661, 0.04166667],\n",
              "       [0.16666667, 0.41666667, 0.06779661, 0.04166667],\n",
              "       [0.11111111, 0.5       , 0.05084746, 0.04166667],\n",
              "       [0.08333333, 0.45833333, 0.08474576, 0.04166667],\n",
              "       [0.19444444, 0.66666667, 0.06779661, 0.04166667],\n",
              "       [0.30555556, 0.79166667, 0.11864407, 0.125     ],\n",
              "       [0.08333333, 0.58333333, 0.06779661, 0.08333333],\n",
              "       [0.19444444, 0.58333333, 0.08474576, 0.04166667],\n",
              "       [0.02777778, 0.375     , 0.06779661, 0.04166667],\n",
              "       [0.16666667, 0.45833333, 0.08474576, 0.        ],\n",
              "       [0.30555556, 0.70833333, 0.08474576, 0.04166667],\n",
              "       [0.13888889, 0.58333333, 0.10169492, 0.04166667],\n",
              "       [0.13888889, 0.41666667, 0.06779661, 0.        ],\n",
              "       [0.        , 0.41666667, 0.01694915, 0.        ],\n",
              "       [0.41666667, 0.83333333, 0.03389831, 0.04166667],\n",
              "       [0.38888889, 1.        , 0.08474576, 0.125     ],\n",
              "       [0.30555556, 0.79166667, 0.05084746, 0.125     ],\n",
              "       [0.22222222, 0.625     , 0.06779661, 0.08333333],\n",
              "       [0.38888889, 0.75      , 0.11864407, 0.08333333],\n",
              "       [0.22222222, 0.75      , 0.08474576, 0.08333333],\n",
              "       [0.30555556, 0.58333333, 0.11864407, 0.04166667],\n",
              "       [0.22222222, 0.70833333, 0.08474576, 0.125     ],\n",
              "       [0.08333333, 0.66666667, 0.        , 0.04166667],\n",
              "       [0.22222222, 0.54166667, 0.11864407, 0.16666667],\n",
              "       [0.13888889, 0.58333333, 0.15254237, 0.04166667],\n",
              "       [0.19444444, 0.41666667, 0.10169492, 0.04166667],\n",
              "       [0.19444444, 0.58333333, 0.10169492, 0.125     ],\n",
              "       [0.25      , 0.625     , 0.08474576, 0.04166667],\n",
              "       [0.25      , 0.58333333, 0.06779661, 0.04166667],\n",
              "       [0.11111111, 0.5       , 0.10169492, 0.04166667],\n",
              "       [0.13888889, 0.45833333, 0.10169492, 0.04166667],\n",
              "       [0.30555556, 0.58333333, 0.08474576, 0.125     ],\n",
              "       [0.25      , 0.875     , 0.08474576, 0.        ],\n",
              "       [0.33333333, 0.91666667, 0.06779661, 0.04166667],\n",
              "       [0.16666667, 0.45833333, 0.08474576, 0.04166667],\n",
              "       [0.19444444, 0.5       , 0.03389831, 0.04166667],\n",
              "       [0.33333333, 0.625     , 0.05084746, 0.04166667],\n",
              "       [0.16666667, 0.66666667, 0.06779661, 0.        ],\n",
              "       [0.02777778, 0.41666667, 0.05084746, 0.04166667],\n",
              "       [0.22222222, 0.58333333, 0.08474576, 0.04166667],\n",
              "       [0.19444444, 0.625     , 0.05084746, 0.08333333],\n",
              "       [0.05555556, 0.125     , 0.05084746, 0.08333333],\n",
              "       [0.02777778, 0.5       , 0.05084746, 0.04166667],\n",
              "       [0.19444444, 0.625     , 0.10169492, 0.20833333],\n",
              "       [0.22222222, 0.75      , 0.15254237, 0.125     ],\n",
              "       [0.13888889, 0.41666667, 0.06779661, 0.08333333],\n",
              "       [0.22222222, 0.75      , 0.10169492, 0.04166667],\n",
              "       [0.08333333, 0.5       , 0.06779661, 0.04166667],\n",
              "       [0.27777778, 0.70833333, 0.08474576, 0.04166667],\n",
              "       [0.19444444, 0.54166667, 0.06779661, 0.04166667],\n",
              "       [0.75      , 0.5       , 0.62711864, 0.54166667],\n",
              "       [0.58333333, 0.5       , 0.59322034, 0.58333333],\n",
              "       [0.72222222, 0.45833333, 0.66101695, 0.58333333],\n",
              "       [0.33333333, 0.125     , 0.50847458, 0.5       ],\n",
              "       [0.61111111, 0.33333333, 0.61016949, 0.58333333],\n",
              "       [0.38888889, 0.33333333, 0.59322034, 0.5       ],\n",
              "       [0.55555556, 0.54166667, 0.62711864, 0.625     ],\n",
              "       [0.16666667, 0.16666667, 0.38983051, 0.375     ],\n",
              "       [0.63888889, 0.375     , 0.61016949, 0.5       ],\n",
              "       [0.25      , 0.29166667, 0.49152542, 0.54166667],\n",
              "       [0.19444444, 0.        , 0.42372881, 0.375     ],\n",
              "       [0.44444444, 0.41666667, 0.54237288, 0.58333333],\n",
              "       [0.47222222, 0.08333333, 0.50847458, 0.375     ],\n",
              "       [0.5       , 0.375     , 0.62711864, 0.54166667],\n",
              "       [0.36111111, 0.375     , 0.44067797, 0.5       ],\n",
              "       [0.66666667, 0.45833333, 0.57627119, 0.54166667],\n",
              "       [0.36111111, 0.41666667, 0.59322034, 0.58333333],\n",
              "       [0.41666667, 0.29166667, 0.52542373, 0.375     ],\n",
              "       [0.52777778, 0.08333333, 0.59322034, 0.58333333],\n",
              "       [0.36111111, 0.20833333, 0.49152542, 0.41666667],\n",
              "       [0.44444444, 0.5       , 0.6440678 , 0.70833333],\n",
              "       [0.5       , 0.33333333, 0.50847458, 0.5       ],\n",
              "       [0.55555556, 0.20833333, 0.66101695, 0.58333333],\n",
              "       [0.5       , 0.33333333, 0.62711864, 0.45833333],\n",
              "       [0.58333333, 0.375     , 0.55932203, 0.5       ],\n",
              "       [0.63888889, 0.41666667, 0.57627119, 0.54166667],\n",
              "       [0.69444444, 0.33333333, 0.6440678 , 0.54166667],\n",
              "       [0.66666667, 0.41666667, 0.6779661 , 0.66666667],\n",
              "       [0.47222222, 0.375     , 0.59322034, 0.58333333],\n",
              "       [0.38888889, 0.25      , 0.42372881, 0.375     ],\n",
              "       [0.33333333, 0.16666667, 0.47457627, 0.41666667],\n",
              "       [0.33333333, 0.16666667, 0.45762712, 0.375     ],\n",
              "       [0.41666667, 0.29166667, 0.49152542, 0.45833333],\n",
              "       [0.47222222, 0.29166667, 0.69491525, 0.625     ],\n",
              "       [0.30555556, 0.41666667, 0.59322034, 0.58333333],\n",
              "       [0.47222222, 0.58333333, 0.59322034, 0.625     ],\n",
              "       [0.66666667, 0.45833333, 0.62711864, 0.58333333],\n",
              "       [0.55555556, 0.125     , 0.57627119, 0.5       ],\n",
              "       [0.36111111, 0.41666667, 0.52542373, 0.5       ],\n",
              "       [0.33333333, 0.20833333, 0.50847458, 0.5       ],\n",
              "       [0.33333333, 0.25      , 0.57627119, 0.45833333],\n",
              "       [0.5       , 0.41666667, 0.61016949, 0.54166667],\n",
              "       [0.41666667, 0.25      , 0.50847458, 0.45833333],\n",
              "       [0.19444444, 0.125     , 0.38983051, 0.375     ],\n",
              "       [0.36111111, 0.29166667, 0.54237288, 0.5       ],\n",
              "       [0.38888889, 0.41666667, 0.54237288, 0.45833333],\n",
              "       [0.38888889, 0.375     , 0.54237288, 0.5       ],\n",
              "       [0.52777778, 0.375     , 0.55932203, 0.5       ],\n",
              "       [0.22222222, 0.20833333, 0.33898305, 0.41666667],\n",
              "       [0.38888889, 0.33333333, 0.52542373, 0.5       ],\n",
              "       [0.55555556, 0.54166667, 0.84745763, 1.        ],\n",
              "       [0.41666667, 0.29166667, 0.69491525, 0.75      ],\n",
              "       [0.77777778, 0.41666667, 0.83050847, 0.83333333],\n",
              "       [0.55555556, 0.375     , 0.77966102, 0.70833333],\n",
              "       [0.61111111, 0.41666667, 0.81355932, 0.875     ],\n",
              "       [0.91666667, 0.41666667, 0.94915254, 0.83333333],\n",
              "       [0.16666667, 0.20833333, 0.59322034, 0.66666667],\n",
              "       [0.83333333, 0.375     , 0.89830508, 0.70833333],\n",
              "       [0.66666667, 0.20833333, 0.81355932, 0.70833333],\n",
              "       [0.80555556, 0.66666667, 0.86440678, 1.        ],\n",
              "       [0.61111111, 0.5       , 0.69491525, 0.79166667],\n",
              "       [0.58333333, 0.29166667, 0.72881356, 0.75      ],\n",
              "       [0.69444444, 0.41666667, 0.76271186, 0.83333333],\n",
              "       [0.38888889, 0.20833333, 0.6779661 , 0.79166667],\n",
              "       [0.41666667, 0.33333333, 0.69491525, 0.95833333],\n",
              "       [0.58333333, 0.5       , 0.72881356, 0.91666667],\n",
              "       [0.61111111, 0.41666667, 0.76271186, 0.70833333],\n",
              "       [0.94444444, 0.75      , 0.96610169, 0.875     ],\n",
              "       [0.94444444, 0.25      , 1.        , 0.91666667],\n",
              "       [0.47222222, 0.08333333, 0.6779661 , 0.58333333],\n",
              "       [0.72222222, 0.5       , 0.79661017, 0.91666667],\n",
              "       [0.36111111, 0.33333333, 0.66101695, 0.79166667],\n",
              "       [0.94444444, 0.33333333, 0.96610169, 0.79166667],\n",
              "       [0.55555556, 0.29166667, 0.66101695, 0.70833333],\n",
              "       [0.66666667, 0.54166667, 0.79661017, 0.83333333],\n",
              "       [0.80555556, 0.5       , 0.84745763, 0.70833333],\n",
              "       [0.52777778, 0.33333333, 0.6440678 , 0.70833333],\n",
              "       [0.5       , 0.41666667, 0.66101695, 0.70833333],\n",
              "       [0.58333333, 0.33333333, 0.77966102, 0.83333333],\n",
              "       [0.80555556, 0.41666667, 0.81355932, 0.625     ],\n",
              "       [0.86111111, 0.33333333, 0.86440678, 0.75      ],\n",
              "       [1.        , 0.75      , 0.91525424, 0.79166667],\n",
              "       [0.58333333, 0.33333333, 0.77966102, 0.875     ],\n",
              "       [0.55555556, 0.33333333, 0.69491525, 0.58333333],\n",
              "       [0.5       , 0.25      , 0.77966102, 0.54166667],\n",
              "       [0.94444444, 0.41666667, 0.86440678, 0.91666667],\n",
              "       [0.55555556, 0.58333333, 0.77966102, 0.95833333],\n",
              "       [0.58333333, 0.45833333, 0.76271186, 0.70833333],\n",
              "       [0.47222222, 0.41666667, 0.6440678 , 0.70833333],\n",
              "       [0.72222222, 0.45833333, 0.74576271, 0.83333333],\n",
              "       [0.66666667, 0.45833333, 0.77966102, 0.95833333],\n",
              "       [0.72222222, 0.45833333, 0.69491525, 0.91666667],\n",
              "       [0.41666667, 0.29166667, 0.69491525, 0.75      ],\n",
              "       [0.69444444, 0.5       , 0.83050847, 0.91666667],\n",
              "       [0.66666667, 0.54166667, 0.79661017, 1.        ],\n",
              "       [0.66666667, 0.41666667, 0.71186441, 0.91666667],\n",
              "       [0.55555556, 0.20833333, 0.6779661 , 0.75      ],\n",
              "       [0.61111111, 0.41666667, 0.71186441, 0.79166667],\n",
              "       [0.52777778, 0.58333333, 0.74576271, 0.91666667],\n",
              "       [0.44444444, 0.41666667, 0.69491525, 0.70833333]])"
            ]
          },
          "metadata": {
            "tags": []
          },
          "execution_count": 30
        }
      ]
    },
    {
      "cell_type": "code",
      "metadata": {
        "colab": {
          "base_uri": "https://localhost:8080/"
        },
        "id": "6f4BtgDVjXnT",
        "outputId": "51a07906-a5bb-4b18-9967-14bd3de8ee5f"
      },
      "source": [
        "targets.shape"
      ],
      "execution_count": null,
      "outputs": [
        {
          "output_type": "execute_result",
          "data": {
            "text/plain": [
              "(150, 3)"
            ]
          },
          "metadata": {
            "tags": []
          },
          "execution_count": 32
        }
      ]
    },
    {
      "cell_type": "markdown",
      "metadata": {
        "id": "EM3vPdQZkyNk"
      },
      "source": [
        "# experiment-002"
      ]
    },
    {
      "cell_type": "markdown",
      "metadata": {
        "id": "_fcONLvCqX8_"
      },
      "source": [
        "## Import Libraries"
      ]
    },
    {
      "cell_type": "code",
      "metadata": {
        "id": "Rk0_uvqwk3bK"
      },
      "source": [
        "import os\n",
        "import pandas as pd\n",
        "import numpy as np\n",
        "import matplotlib.pyplot as plt\n",
        "import seaborn as sns\n",
        "%matplotlib inline\n",
        "from sklearn import datasets\n",
        "from sklearn.metrics import accuracy_score,confusion_matrix,classification_report\n",
        "from sklearn.model_selection import train_test_split"
      ],
      "execution_count": null,
      "outputs": []
    },
    {
      "cell_type": "code",
      "metadata": {
        "id": "VhneNI-VlLny"
      },
      "source": [
        "Random_State=2020"
      ],
      "execution_count": null,
      "outputs": []
    },
    {
      "cell_type": "markdown",
      "metadata": {
        "id": "KG5BpzNjqgDm"
      },
      "source": [
        "#Defining functions\n",
        "\n",
        "-- loading data\n",
        "\n",
        "-- preprocesiing\n",
        "\n",
        "-- visulaization\n",
        "\n",
        "-- evaluation metrics/results\n",
        "\n",
        "-- creating model"
      ]
    },
    {
      "cell_type": "code",
      "metadata": {
        "id": "8DIA4ssMlQIb"
      },
      "source": [
        "def Import_Data():\n",
        "    # df=pd.read_csv(\"DNN_fashion_MNIST/fashion-mnist_train.csv\")\n",
        "    train_df=pd.read_csv(\"https://raw.githubusercontent.com/HARSHIT097/Neural_networks/main/MNIST_CSV/mnist_test.csv\",\n",
        "                         nrows=10000,dtype=np.int32)\n",
        "    return train_df\n",
        "\n",
        "def Min_Max_Norm(X):\n",
        "    temp=X.values/255\n",
        "    return pd.DataFrame(temp,columns=X.columns)\n",
        "\n",
        "def Train_Test(X,y):\n",
        "    X_train,X_test,y_train,y_test= train_test_split(X,y,test_size=0.2,random_state=Random_State)\n",
        "    X_train=X_train.astype(\"float32\")\n",
        "    X_test=X_test.astype(\"float32\")\n",
        "    X_train/=255.0\n",
        "    X_test/=255.0\n",
        "\n",
        "    return X_train,X_test,y_train,y_test\n",
        "\n",
        "Result_df=pd.DataFrame(columns=[\"Dimension of hidden layer\",\"Learning Rate\",\"Regularization\",\"n_Epoch\",\n",
        "                                \"Train_Accuracy\",\"Test Accuracy\",\"Comment\"])\n",
        "\n",
        "#To store result in the dataframe\n",
        "def Save_Result(hidden_layer,Learning_Rate,Regularization,n_Epoch,Train_Accuracy,Test_Accuracy):\n",
        "    global Result_df\n",
        "    Remark=input(\"Please Enter Remark : \")\n",
        "    result={\"Dimension of hidden layer\":hidden_layer,\"Learning Rate\":Learning_Rate,\n",
        "            \"Regularization\":Regularization,\"n_Epoch\":n_Epoch,\n",
        "                                \"Train_Accuracy\":Train_Accuracy,\n",
        "                                \"Test Accuracy\":Test_Accuracy,\"Comment\":Remark}\n",
        "    Result_df=Result_df.append(result,ignore_index=True)\n",
        "    print(\"Data Saved\")\n",
        "    return True\n",
        "\n",
        "def Plot_Data(X):\n",
        "    num = 10\n",
        "    images = X.iloc[:10,1:]\n",
        "    labels = X.iloc[:10,0]\n",
        "    num_row = 2\n",
        "    num_col = 5\n",
        "    # plot images\n",
        "    fig, axes = plt.subplots(num_row, num_col, figsize=(1.5*num_col,2*num_row))\n",
        "    for i in range(num):\n",
        "        img=np.reshape(X.iloc[i,1:].to_list(),(28,28))\n",
        "        ax = axes[i//num_col, i%num_col]\n",
        "        ax.imshow(img, cmap='gray')\n",
        "        ax.set_title('Label: {}'.format(labels[i]))\n",
        "    plt.tight_layout()\n",
        "    plt.show()\n",
        "    return \n",
        "\n",
        "\n",
        "def Show_Loss_Graph(loss):\n",
        "    keys=list(loss.keys())\n",
        "    values=list(loss.values())\n",
        "    plt.xlabel(\"n Epoch\")\n",
        "    plt.ylabel(\"Loss\")\n",
        "    print(\"Starting Loss : \",values[0])\n",
        "    print(\"Ending Loss :\",values[-1])\n",
        "    sns.lineplot(x=keys,y=values)\n",
        "    return\n",
        "\n",
        "def Predict_Result(model,X):\n",
        "    \n",
        "    #Input X \n",
        "    #Model\n",
        "    \n",
        "    W1,B1,W2,B2,W3,B3,W4,B4=model[\"W1\"],model[\"B1\"],model[\"W2\"],model[\"B2\"],model[\"W3\"], \\\n",
        "                            model[\"B3\"],model[\"W4\"],model[\"B4\"]\n",
        "    #Layer 1\n",
        "    Z1=X.dot(W1)+B1\n",
        "    A1=np.tanh(Z1)\n",
        "    \n",
        "    #Layer 2\n",
        "    Z2=A1.dot(W2)+B2\n",
        "    A2=np.tanh(Z2)\n",
        "    \n",
        "    #Layer 3\n",
        "    Z3=A2.dot(W3)+B3\n",
        "    A3=np.tanh(Z3)\n",
        "    \n",
        "    #Layer 4\n",
        "    Z4=A3.dot(W4)+B4\n",
        "    Z4=np.exp(Z4)\n",
        "    proba=Z4/np.sum(Z4,axis=1,keepdims=True)\n",
        "\n",
        "    return np.argmax(proba,axis=1)\n",
        "  \n",
        "def Calculate_Accuracy_Update(model_,X_,y_):\n",
        "    X=X_.copy()\n",
        "    y=y_.copy()\n",
        "    \n",
        "    y_hat=Predict_Result(model_,X)\n",
        "\n",
        "    Accuracy=accuracy_score(y,y_hat)\n",
        "\n",
        "    X=pd.DataFrame(X,columns=features[1:])\n",
        "    X[\"y\"]=y\n",
        "    X[\"y_hat\"]=y_hat\n",
        "    \n",
        "    print(\"Accuracy : \",Accuracy )\n",
        "\n",
        "    print(confusion_matrix(y,y_hat)) \n",
        "\n",
        "    return X,Accuracy\n",
        "\n",
        "def Calculate_Loss_Function(model,X,y):\n",
        "    # Function to calculate loss on whole dataset\n",
        "#     print(y)\n",
        "    W1,B1,W2,B2,W3,B3,W4,B4=model[\"W1\"],model[\"B1\"],model[\"W2\"],model[\"B2\"],model[\"W3\"], \\\n",
        "                            model[\"B3\"],model[\"W4\"],model[\"B4\"]\n",
        "    \n",
        "    #Layer 1\n",
        "    Z1=X.dot(W1)+B1\n",
        "    A1=np.tanh(Z1)\n",
        "    \n",
        "    #Layer 2\n",
        "    Z2=A1.dot(W2)+B2\n",
        "    A2=np.tanh(Z2)\n",
        "    \n",
        "    #Layer 3\n",
        "    Z3=A2.dot(W3)+B3\n",
        "    A3=np.tanh(Z3)\n",
        "    \n",
        "    #Layer 4\n",
        "    Z4=A3.dot(W4)+B4\n",
        "    Z4=np.exp(Z4)\n",
        "    A4=Z4/np.sum(Z4,axis=1,keepdims=True)\n",
        "    \n",
        "    #output Layer -> Softmax\n",
        "    exp_op=np.exp(A4)\n",
        "    \n",
        "    #To calculate probabilities\n",
        "    proba=exp_op/np.sum(exp_op,axis=1,keepdims=True)\n",
        "    \n",
        "    #Calculate Correct loss \n",
        "    y=y.astype(int)\n",
        "    log_proba=-np.log(proba[range(count),y])\n",
        "\n",
        "    loss=np.sum(log_proba)\n",
        "    \n",
        "    #\n",
        "    loss+=(lambda_/2) *(np.sum(np.square(W1))+\n",
        "                        np.sum(np.square(W2))+\n",
        "                        np.sum(np.square(W3))+\n",
        "                        np.sum(np.square(W4)))\n",
        "    loss/=count\n",
        "    return loss\n",
        "\n",
        "def Drop_Out_Forword(Layers,Keep_prob=1):\n",
        "    if Keep_prob>0.0:\n",
        "        Drop_Out_L=np.random.randn(Layers.shape[1],Layers[0])/np.sqrt(Layers[0])\n",
        "        Drop_Out_L=(Drop_Out_L<Keep_prob).astype(np.float)\n",
        "        Layers*=Drop_Out\n",
        "        Layers/=Keep_prob\n",
        "    return Layers,Drop_Out_L\n",
        "def Drop_Out_Backword(Diff_Layers,Drop_Out,Keep_prob=1):\n",
        "    if keep_Prob>0:\n",
        "        Diff_Layers*=Drop_Out\n",
        "        Diff_Layers/=keep_Prob\n",
        "    return Diff_Layers\n",
        "\n",
        "def Create_Mini_Batches(Batch_Size,X,y):\n",
        "    # print(\"Mini-Batch In\")\n",
        "    y=y.reshape(y.shape[0],1)\n",
        "    Mini_Batches = [] \n",
        "    Data = np.hstack((X, y))\n",
        "    np.random.shuffle(Data) \n",
        "    n_minibatches = Data.shape[0] // Batch_Size \n",
        "    i = 0\n",
        "    for i in range(n_minibatches + 1): \n",
        "        mini_batch = Data[i * Batch_Size:(i + 1)*Batch_Size, :] \n",
        "        X_mini = mini_batch[:, :-1] \n",
        "        Y_mini = mini_batch[:, -1] \n",
        "        # print(X_mini)\n",
        "        # print(Y_mini)\n",
        "        \n",
        "        Mini_Batches.append((X_mini, Y_mini))\n",
        "        # print(\"Batch Created\") \n",
        "    if Data.shape[0] % Batch_Size != 0: \n",
        "        mini_batch = Data[i * Batch_Size:Data.shape[0]] \n",
        "        X_mini = mini_batch[:, :-1] \n",
        "        Y_mini = mini_batch[:, -1] \n",
        "        Mini_Batches.append((X_mini, Y_mini)) \n",
        "    # print(\"Mini-Batch Clear\")\n",
        "    return Mini_Batches \n",
        "\n",
        "def Train_Model(Layers,Model,X,y,Epoch=1000,Batch_Size=32,Print_Loss=False):\n",
        "    \n",
        "    np.random.seed(Random_State)\n",
        "    \n",
        "    if Model==None:\n",
        "        W1=np.random.randn(X.shape[1],Layers[0])/np.sqrt(Layers[0])\n",
        "        B1=np.zeros((1,Layers[0]))\n",
        "        \n",
        "        W2=np.random.randn(Layers[0],Layers[1])/np.sqrt(Layers[1])\n",
        "        B2=np.zeros((1,Layers[1]))\n",
        "        \n",
        "        W3=np.random.randn(Layers[1],Layers[2])/np.sqrt(Layers[2])\n",
        "        B3=np.zeros((1,Layers[2]))\n",
        "        \n",
        "        W4=np.random.randn(Layers[2],Layers[3])/np.sqrt(Layers[3])\n",
        "        B4=np.zeros((1,Layers[3]))\n",
        "        \n",
        "    else : \n",
        "        W1,B1,W2,B2,W3,B3,W4,B4=Model[\"W1\"],model[\"B1\"],model[\"W2\"],model[\"B2\"],model[\"W3\"], \\\n",
        "                            model[\"B3\"],model[\"W4\"],model[\"B4\"]\n",
        "    \n",
        "\n",
        "    assert((X.shape[1],Layers[0])==W1.shape)\n",
        "    \"Shape of X={} does not match with W1={}\".format((X.shape[1],Layers[0]),W1.shape)\n",
        "    Model={}\n",
        "    \n",
        "    for i in range(Epoch):\n",
        "        \n",
        "        \n",
        "        Mini_Batches = Create_Mini_Batches(Batch_Size,X, y)\n",
        "        for mini_batch in Mini_Batches:\n",
        "            Min_X,Min_Y=mini_batch\n",
        "            \n",
        "            if len(Min_X)!=Batch_Size:\n",
        "                break\n",
        "\n",
        "            ########### Forward Propagation ###########\n",
        "            #Layer 1\n",
        "            Z1=Min_X.dot(W1)+B1\n",
        "            A1=np.tanh(Z1)\n",
        "            assert(Z1.shape==A1.shape) ,\"Shape of Z1 and A1 does not match\"\n",
        "\n",
        "            #Layer 2\n",
        "            Z2=A1.dot(W2)+B2\n",
        "            A2=np.tanh(Z2)\n",
        "            assert(Z2.shape==A2.shape) ,\"Shape of Z2 and A2 does not match\"\n",
        "\n",
        "\n",
        "            #Layer 3\n",
        "            Z3=A2.dot(W3)+B3\n",
        "            A3=np.tanh(Z3)\n",
        "            assert(Z3.shape==A3.shape), \"Shape of Z3 and A3 does not match\"\n",
        "\n",
        "\n",
        "            #Layer 4\n",
        "            Z4=A3.dot(W4)+B4\n",
        "            Z4=np.exp(Z4)\n",
        "            proba=Z4/np.sum(Z4,axis=1,keepdims=True)\n",
        "            assert(Z4.shape==proba.shape) ,\"Shape of Z4 and proba does not match\"\n",
        "\n",
        "\n",
        "            ########### Backward Propagation ###########\n",
        "            #Layer 4\n",
        "            dZ4=proba\n",
        "  \n",
        "            Min_Y=Min_Y. astype(int)\n",
        "            dZ4[range(Batch_Size),Min_Y]-=1\n",
        "\n",
        "            dW4=(1/Batch_Size)*(A3.T).dot(dZ4)\n",
        "\n",
        "            assert(dW4.shape==W4.shape) ,\"Shape of dW4={} and W4={} does not match\".format(dW4.shape, W4.shape)\n",
        "\n",
        "            dB4=(1/Batch_Size)*np.sum(dZ4,axis=0,keepdims=True)\n",
        "\n",
        "            #Layer 3\n",
        "            dA3=dZ4.dot(W4.T)\n",
        "\n",
        "            dZ3=dA3*(1-A3**2)\n",
        "\n",
        "            dW3=(1/Batch_Size)*(A2.T).dot(dZ3)\n",
        "            assert(dW3.shape==W3.shape) ,\"Shape of dW3 and W3 does not match\"\n",
        "\n",
        "\n",
        "            dB3=(1/Batch_Size)*np.sum(dZ3,axis=0,keepdims=0)\n",
        "\n",
        "            # Layer 2\n",
        "\n",
        "            dA2=dZ3.dot(W3.T)\n",
        "\n",
        "            dZ2=dA2*(1-A2**2)\n",
        "\n",
        "            dW2=(1/Batch_Size)*(A1.T).dot(dZ2)\n",
        "\n",
        "            assert(dW2.shape==W2.shape), \"Shape of dW2 and W2 does not match\"\n",
        "\n",
        "\n",
        "            dB2=(1/Batch_Size)*np.sum(dZ2,axis=0,keepdims=0)\n",
        "\n",
        "            # Layer 1\n",
        "\n",
        "            dA1=dZ2.dot(W2.T)\n",
        "\n",
        "            dZ1=dA1*(1-A1**2)\n",
        "\n",
        "            dW1=(1/Batch_Size)*(Min_X.T).dot(dZ1)\n",
        "\n",
        "            assert(dW1.shape==W1.shape), \"Shape of dW1 and W1 does not match\"\n",
        "\n",
        "            dB1=(1/Batch_Size)*np.sum(dZ1,axis=0,keepdims=0)\n",
        "\n",
        "\n",
        "\n",
        "            # Regularization\n",
        "\n",
        "            dW4+=lambda_*dW4\n",
        "            dW3+=lambda_*dW3\n",
        "            dW2+=lambda_*dW2\n",
        "            dW1+=lambda_*dW1\n",
        "\n",
        "            #Gradient Descent\n",
        "\n",
        "            W4-=Learning_Rate*dW4\n",
        "            W3-=Learning_Rate*dW3\n",
        "            W2-=Learning_Rate*dW2\n",
        "            W1-=Learning_Rate*dW1\n",
        "\n",
        "\n",
        "            # set model values \n",
        "\n",
        "        Model={\"W4\":W4,\"B4\":B4,\n",
        "            \"W3\":W3,\"B3\":B3,\n",
        "            \"W2\":W2,\"B2\":B2,\n",
        "            \"W1\":W1,\"B1\":B1\n",
        "              }\n",
        "        if Print_Loss and i%50==0:\n",
        "            loss=Calculate_Loss_Function(Model,X,y)\n",
        "            print(\"Loss after %i epoch is %f\"%(i,loss))\n",
        "\n",
        "            loss_dict[i]=loss\n",
        "    \n",
        "    loss=Calculate_Loss_Function(Model,X,y)\n",
        "    print(\"Loss after %i epoch is %f\"%(i,loss))\n",
        "\n",
        "    loss_dict[i]=loss\n",
        "    \n",
        "    return Model \n",
        "\n",
        "def Main():\n",
        "    Model=None\n",
        "    model=Train_Model(Layers,Model,X_train.values,y_train.values,Epoch,\n",
        "                      Batch_Size=32,Print_Loss=True)\n",
        "    print(\"Loss Graph\")\n",
        "    Show_Loss_Graph(loss_dict)\n",
        "    print(\"Training Data\")\n",
        "    train_y_pred,train_acc=Calculate_Accuracy_Update(model,X_train.values,y_train.values)\n",
        "    print(\"Testing Data\")\n",
        "    test_y_pred,test_acc=Calculate_Accuracy_Update(model,X_test.values,y_test.values)\n",
        "    \n",
        "\n",
        "    Save_Result(Layers,Learning_Rate,lambda_,Epoch,train_acc,test_acc)\n"
      ],
      "execution_count": null,
      "outputs": []
    },
    {
      "cell_type": "code",
      "metadata": {
        "id": "Q-NRvWUpmO0Z"
      },
      "source": [
        "MNIST_Data=Import_Data()"
      ],
      "execution_count": null,
      "outputs": []
    },
    {
      "cell_type": "code",
      "metadata": {
        "colab": {
          "base_uri": "https://localhost:8080/",
          "height": 278
        },
        "id": "C4pn2o1emQSU",
        "outputId": "214d9c70-364b-43ed-91e8-004a3676b05f"
      },
      "source": [
        "Plot_Data(MNIST_Data)"
      ],
      "execution_count": null,
      "outputs": [
        {
          "output_type": "display_data",
          "data": {
            "image/png": "[encoded data removed]",
            "text/plain": [
              "<Figure size 540x288 with 10 Axes>"
            ]
          },
          "metadata": {
            "tags": [],
            "needs_background": "light"
          }
        }
      ]
    },
    {
      "cell_type": "code",
      "metadata": {
        "id": "dsyoVFaFmSbE"
      },
      "source": [
        "X_train,X_test,y_train,y_test =Train_Test(MNIST_Data.iloc[:,1:],MNIST_Data.iloc[:,0])"
      ],
      "execution_count": null,
      "outputs": []
    },
    {
      "cell_type": "markdown",
      "metadata": {
        "id": "KKy7hylAmv7I"
      },
      "source": [
        "## Experiment with parameters"
      ]
    },
    {
      "cell_type": "code",
      "metadata": {
        "colab": {
          "base_uri": "https://localhost:8080/",
          "height": 806
        },
        "id": "Zd5nrnATmXmE",
        "outputId": "aef3ea5b-4e4f-4177-bede-6effb49eb0ca"
      },
      "source": [
        "# Updated \n",
        "features=MNIST_Data.columns\n",
        "loss_dict={}\n",
        "count=len(X_train)\n",
        "Layers=[5,5,4,10]\n",
        "Learning_Rate=0.01\n",
        "lambda_=0.0\n",
        "Epoch=30\n",
        "Main()"
      ],
      "execution_count": null,
      "outputs": [
        {
          "output_type": "stream",
          "text": [
            "Loss after 0 epoch is 2.294639\n",
            "Loss after 29 epoch is 2.102721\n",
            "Loss Graph\n",
            "Starting Loss :  2.2946394630125218\n",
            "Ending Loss : 2.102720891934031\n",
            "Training Data\n",
            "Accuracy :  0.4248031003875484\n",
            "[[502   0   0  35   4  38 215   0   0   2]\n",
            " [  1 887   1  19   0   4   0   0   8   2]\n",
            " [ 44  61   0 542  18  59  34   8  21  25]\n",
            " [ 12  36   1 635   8  43  10   2  12  12]\n",
            " [ 35  29   0   0 436   2  34 103   2 130]\n",
            " [114  15   1 313  12 171  82   6   4  10]\n",
            " [452   6   2  19  17  75 200   1   0   4]\n",
            " [ 11  63   0   7 449   0  14  70   2 204]\n",
            " [ 37 131   0 477   7  31  21   4  39  35]\n",
            " [ 22  16   0   7 247   5  13  52   1 458]]\n",
            "Testing Data\n",
            "Accuracy :  0.4235\n",
            "[[114   0   0   5   1   9  55   0   0   0]\n",
            " [  1 205   0   3   0   1   0   0   3   0]\n",
            " [ 11  19   0 141   7  20   8   3   2   9]\n",
            " [  4  13   0 192   1  15   5   0   4   5]\n",
            " [  8   9   0   0 132   0  11  23   0  28]\n",
            " [ 34   1   0  62   2  39  21   2   1   2]\n",
            " [113   1   0   3   3  17  43   1   0   1]\n",
            " [  1  20   0   0 109   0   3  15   1  58]\n",
            " [ 10  42   0 101   3  17   3   0   8   8]\n",
            " [  3   6   0   3  59   2   3  12   1  99]]\n",
            "Please Enter Remark : Test-1\n",
            "Data Saved\n"
          ],
          "name": "stdout"
        },
        {
          "output_type": "display_data",
          "data": {
            "image/png": "[encoded data removed]",
            "text/plain": [
              "<Figure size 432x288 with 1 Axes>"
            ]
          },
          "metadata": {
            "tags": [],
            "needs_background": "light"
          }
        }
      ]
    },
    {
      "cell_type": "code",
      "metadata": {
        "colab": {
          "base_uri": "https://localhost:8080/",
          "height": 806
        },
        "id": "bn50MLFlmeCc",
        "outputId": "7f8927a6-bc5f-4d16-f119-b5464a26fe2f"
      },
      "source": [
        "# Updated \n",
        "features=MNIST_Data.columns\n",
        "loss_dict={}\n",
        "count=len(X_train)\n",
        "Layers=[5,5,4,10]\n",
        "Learning_Rate=0.01\n",
        "lambda_=0.0\n",
        "Epoch=30\n",
        "Main()"
      ],
      "execution_count": null,
      "outputs": [
        {
          "output_type": "stream",
          "text": [
            "Loss after 0 epoch is 2.294639\n",
            "Loss after 29 epoch is 2.102721\n",
            "Loss Graph\n",
            "Starting Loss :  2.2946394630125218\n",
            "Ending Loss : 2.1027208919340312\n",
            "Training Data\n",
            "Accuracy :  0.4248031003875484\n",
            "[[502   0   0  35   4  38 215   0   0   2]\n",
            " [  1 887   1  19   0   4   0   0   8   2]\n",
            " [ 44  61   0 542  18  59  34   8  21  25]\n",
            " [ 12  36   1 635   8  43  10   2  12  12]\n",
            " [ 35  29   0   0 436   2  34 103   2 130]\n",
            " [114  15   1 313  12 171  82   6   4  10]\n",
            " [452   6   2  19  17  75 200   1   0   4]\n",
            " [ 11  63   0   7 449   0  14  70   2 204]\n",
            " [ 37 131   0 477   7  31  21   4  39  35]\n",
            " [ 22  16   0   7 247   5  13  52   1 458]]\n",
            "Testing Data\n",
            "Accuracy :  0.4235\n",
            "[[114   0   0   5   1   9  55   0   0   0]\n",
            " [  1 205   0   3   0   1   0   0   3   0]\n",
            " [ 11  19   0 141   7  20   8   3   2   9]\n",
            " [  4  13   0 192   1  15   5   0   4   5]\n",
            " [  8   9   0   0 132   0  11  23   0  28]\n",
            " [ 34   1   0  62   2  39  21   2   1   2]\n",
            " [113   1   0   3   3  17  43   1   0   1]\n",
            " [  1  20   0   0 109   0   3  15   1  58]\n",
            " [ 10  42   0 101   3  17   3   0   8   8]\n",
            " [  3   6   0   3  59   2   3  12   1  99]]\n",
            "Please Enter Remark : Test-4\n",
            "Data Saved\n"
          ],
          "name": "stdout"
        },
        {
          "output_type": "display_data",
          "data": {
            "image/png": "[encoded data removed]",
            "text/plain": [
              "<Figure size 432x288 with 1 Axes>"
            ]
          },
          "metadata": {
            "tags": [],
            "needs_background": "light"
          }
        }
      ]
    },
    {
      "cell_type": "code",
      "metadata": {
        "colab": {
          "base_uri": "https://localhost:8080/",
          "height": 859
        },
        "id": "CgTQJaMum9A_",
        "outputId": "0fe2481e-b92c-4971-f5c2-0981e419f21b"
      },
      "source": [
        "#Batch 32 \n",
        "features=MNIST_Data.columns\n",
        "loss_dict={}\n",
        "count=len(X_train)\n",
        "Layers=[8,10,15,10]\n",
        "Learning_Rate=0.01\n",
        "lambda_=0.01\n",
        "Epoch=200\n",
        "Main()"
      ],
      "execution_count": null,
      "outputs": [
        {
          "output_type": "stream",
          "text": [
            "Loss after 0 epoch is 2.271519\n",
            "Loss after 50 epoch is 1.695330\n",
            "Loss after 100 epoch is 1.618874\n",
            "Loss after 150 epoch is 1.584737\n",
            "Loss after 199 epoch is 1.564584\n",
            "Loss Graph\n",
            "Starting Loss :  2.2715188806511097\n",
            "Ending Loss : 1.5645837208160087\n",
            "Training Data\n",
            "Accuracy :  0.9398674834354295\n",
            "[[780   0   2   0   0   1   7   1   2   3]\n",
            " [  0 908   0   4   0   3   3   0   3   1]\n",
            " [  6   2 761   3  13   1   7   8  11   0]\n",
            " [  0   0  15 714   0  18   2   7  11   4]\n",
            " [  1   3   1   0 716   0   9   0   3  38]\n",
            " [  8   1   1  28   0 646  10   2  29   3]\n",
            " [  1   0   3   1   2   5 764   0   0   0]\n",
            " [  0   7   8   4   1   0   0 743   1  56]\n",
            " [  4   2  11  13   2  15   5   3 723   4]\n",
            " [  4   0   0   7  17   6   0  18   6 763]]\n",
            "Testing Data\n",
            "Accuracy :  0.862\n",
            "[[170   0   3   0   0   2   8   1   0   0]\n",
            " [  0 207   1   1   0   1   0   0   2   1]\n",
            " [  4   2 183   3   5   1   9   4   7   2]\n",
            " [  1   1   8 200   0  13   0   7   9   0]\n",
            " [  0   0   1   0 182   0  10   0   1  17]\n",
            " [  6   2   4  23   1 117   3   0   4   4]\n",
            " [  4   0   4   0   2   9 162   0   1   0]\n",
            " [  1   0   3   0   1   2   0 183   0  17]\n",
            " [  2   3   5   1   2   9   2   4 160   4]\n",
            " [  0   0   0   3  12   3   0   5   5 160]]\n",
            "Please Enter Remark : test-5\n",
            "Data Saved\n"
          ],
          "name": "stdout"
        },
        {
          "output_type": "display_data",
          "data": {
            "image/png": "[encoded data removed]",
            "text/plain": [
              "<Figure size 432x288 with 1 Axes>"
            ]
          },
          "metadata": {
            "tags": [],
            "needs_background": "light"
          }
        }
      ]
    },
    {
      "cell_type": "markdown",
      "metadata": {
        "id": "kAVpNqofrPKX"
      },
      "source": [
        "# Results Summary"
      ]
    },
    {
      "cell_type": "code",
      "metadata": {
        "colab": {
          "base_uri": "https://localhost:8080/",
          "height": 204
        },
        "id": "Xs5w6bM5nY5e",
        "outputId": "b5708085-3cb5-478c-a98e-83d10024d7b7"
      },
      "source": [
        "Result_df"
      ],
      "execution_count": null,
      "outputs": [
        {
          "output_type": "execute_result",
          "data": {
            "text/html": [
              "<div>\n",
              "<style scoped>\n",
              "    .dataframe tbody tr th:only-of-type {\n",
              "        vertical-align: middle;\n",
              "    }\n",
              "\n",
              "    .dataframe tbody tr th {\n",
              "        vertical-align: top;\n",
              "    }\n",
              "\n",
              "    .dataframe thead th {\n",
              "        text-align: right;\n",
              "    }\n",
              "</style>\n",
              "<table border=\"1\" class=\"dataframe\">\n",
              "  <thead>\n",
              "    <tr style=\"text-align: right;\">\n",
              "      <th></th>\n",
              "      <th>Dimension of hidden layer</th>\n",
              "      <th>Learning Rate</th>\n",
              "      <th>Regularization</th>\n",
              "      <th>n_Epoch</th>\n",
              "      <th>Train_Accuracy</th>\n",
              "      <th>Test Accuracy</th>\n",
              "      <th>Comment</th>\n",
              "    </tr>\n",
              "  </thead>\n",
              "  <tbody>\n",
              "    <tr>\n",
              "      <th>0</th>\n",
              "      <td>[5, 5, 4, 10]</td>\n",
              "      <td>0.01</td>\n",
              "      <td>0.00</td>\n",
              "      <td>30</td>\n",
              "      <td>0.424803</td>\n",
              "      <td>0.4235</td>\n",
              "      <td>Test-1</td>\n",
              "    </tr>\n",
              "    <tr>\n",
              "      <th>1</th>\n",
              "      <td>[5, 5, 4, 10]</td>\n",
              "      <td>0.01</td>\n",
              "      <td>0.00</td>\n",
              "      <td>30</td>\n",
              "      <td>0.424803</td>\n",
              "      <td>0.4235</td>\n",
              "      <td>Test-2</td>\n",
              "    </tr>\n",
              "    <tr>\n",
              "      <th>2</th>\n",
              "      <td>[8, 10, 15, 10]</td>\n",
              "      <td>0.01</td>\n",
              "      <td>0.01</td>\n",
              "      <td>200</td>\n",
              "      <td>0.939867</td>\n",
              "      <td>0.8620</td>\n",
              "      <td>Test-3</td>\n",
              "    </tr>\n",
              "    <tr>\n",
              "      <th>3</th>\n",
              "      <td>[5, 5, 4, 10]</td>\n",
              "      <td>0.01</td>\n",
              "      <td>0.00</td>\n",
              "      <td>30</td>\n",
              "      <td>0.424803</td>\n",
              "      <td>0.4235</td>\n",
              "      <td>Test-4</td>\n",
              "    </tr>\n",
              "    <tr>\n",
              "      <th>4</th>\n",
              "      <td>[8, 10, 15, 10]</td>\n",
              "      <td>0.01</td>\n",
              "      <td>0.01</td>\n",
              "      <td>200</td>\n",
              "      <td>0.939867</td>\n",
              "      <td>0.8620</td>\n",
              "      <td>test-5</td>\n",
              "    </tr>\n",
              "  </tbody>\n",
              "</table>\n",
              "</div>"
            ],
            "text/plain": [
              "  Dimension of hidden layer  Learning Rate  ...  Test Accuracy Comment\n",
              "0             [5, 5, 4, 10]           0.01  ...         0.4235  Test-1\n",
              "1             [5, 5, 4, 10]           0.01  ...         0.4235  Test-2\n",
              "2           [8, 10, 15, 10]           0.01  ...         0.8620  Test-3\n",
              "3             [5, 5, 4, 10]           0.01  ...         0.4235  Test-4\n",
              "4           [8, 10, 15, 10]           0.01  ...         0.8620  test-5\n",
              "\n",
              "[5 rows x 7 columns]"
            ]
          },
          "metadata": {
            "tags": []
          },
          "execution_count": 61
        }
      ]
    },
    {
      "cell_type": "code",
      "metadata": {
        "id": "pgV_sgllnujH"
      },
      "source": [
        ""
      ],
      "execution_count": null,
      "outputs": []
    }
  ]
}